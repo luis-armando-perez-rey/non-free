{
 "cells": [
  {
   "cell_type": "code",
   "execution_count": null,
   "metadata": {
    "collapsed": true
   },
   "outputs": [],
   "source": [
    "from dataset_generation import rotating_arrows\n",
    "import matplotlib.pyplot as plt\n",
    "import numpy as np"
   ]
  },
  {
   "cell_type": "code",
   "execution_count": null,
   "outputs": [],
   "source": [
    "num_arrows_array = [1,2, 3,5,7]\n",
    "colors_array = [\"tab:red\", \"tab:green\", \"tab:purple\", \"tab:orange\", \"tab:blue\"]\n",
    "styles = [\"simple\", \"fancy\", \"wedge\", \"fork\", \"triangle\"]\n",
    "fig, axes = plt.subplots(4, len(num_arrows_array), figsize = (7, 5))\n",
    "for num_a, num_arrows in enumerate(num_arrows_array):\n",
    "    c1 = rotating_arrows.ArrowCanvas()\n",
    "    c1.add_arrows(0.0, num_arrows, \"tab:red\")\n",
    "    axes[0, num_a].imshow(c1.numpy_img)\n",
    "    axes[0, num_a].set_xticks([])\n",
    "    axes[0,num_a].set_yticks([])\n",
    "    axes[0, 0].set_ylabel(\"# Arrows\")\n",
    "for num_rotation, rotation in enumerate(2*np.pi*np.arange(0, 5)/5):\n",
    "    c1 = rotating_arrows.ArrowCanvas()\n",
    "    c1.add_arrows(rotation, 1, \"tab:red\")\n",
    "    axes[1, num_rotation].imshow(c1.numpy_img)\n",
    "    axes[1, num_rotation].set_xticks([])\n",
    "    axes[1,num_rotation].set_yticks([])\n",
    "    axes[1, 0].set_ylabel(\"Rotation\")\n",
    "for num_color, color in enumerate(colors_array):\n",
    "    c1 = rotating_arrows.ArrowCanvas()\n",
    "    c1.add_arrows(0, 1, color)\n",
    "    axes[2, num_color].imshow(c1.numpy_img)\n",
    "    axes[2, num_color].set_xticks([])\n",
    "    axes[2,num_color].set_yticks([])\n",
    "    axes[2, 0].set_ylabel(\"Color\")\n",
    "for num_style, style in enumerate(styles):\n",
    "    c1 = rotating_arrows.ArrowCanvas()\n",
    "    c1.add_arrows(0, 1, color, style=style)\n",
    "    axes[3, 0].set_ylabel(\"Style\")\n",
    "    axes[3, num_style].imshow(c1.numpy_img)\n",
    "    axes[3, num_style].set_xticks([])\n",
    "    axes[3,num_style].set_yticks([])\n",
    "fig.savefig(\"./arrows.png\", bbox_inches = \"tight\")"
   ],
   "metadata": {
    "collapsed": false,
    "pycharm": {
     "name": "#%%\n"
    }
   }
  },
  {
   "cell_type": "code",
   "execution_count": null,
   "outputs": [],
   "source": [
    "c1 = rotating_arrows.ArrowCanvas()\n",
    "c1.add_arrows(np.pi/4, 3, \"tab:red\")\n",
    "\n",
    "c1.fig.savefig(\"./3arrows.png\", bbox_inches = \"tight\")"
   ],
   "metadata": {
    "collapsed": false,
    "pycharm": {
     "name": "#%%\n"
    }
   }
  },
  {
   "cell_type": "code",
   "execution_count": null,
   "outputs": [],
   "source": [
    "import os"
   ],
   "metadata": {
    "collapsed": false,
    "pycharm": {
     "name": "#%%\n"
    }
   }
  },
  {
   "cell_type": "code",
   "execution_count": null,
   "outputs": [],
   "source": [
    "os.listdir(os.getcwd())"
   ],
   "metadata": {
    "collapsed": false,
    "pycharm": {
     "name": "#%%\n"
    }
   }
  }
 ],
 "metadata": {
  "kernelspec": {
   "display_name": "Python 3",
   "language": "python",
   "name": "python3"
  },
  "language_info": {
   "codemirror_mode": {
    "name": "ipython",
    "version": 2
   },
   "file_extension": ".py",
   "mimetype": "text/x-python",
   "name": "python",
   "nbconvert_exporter": "python",
   "pygments_lexer": "ipython2",
   "version": "2.7.6"
  }
 },
 "nbformat": 4,
 "nbformat_minor": 0
}