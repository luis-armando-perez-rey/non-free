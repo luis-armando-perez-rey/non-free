{
 "cells": [
  {
   "cell_type": "code",
   "execution_count": null,
   "metadata": {
    "collapsed": true
   },
   "outputs": [],
   "source": [
    "import argparse\n",
    "import pickle\n",
    "import numpy as np\n",
    "import os\n",
    "import torch\n",
    "import matplotlib.pyplot as plt\n",
    "from scipy.spatial.transform import Rotation as R\n",
    "from utils.dataset_utils import get_dataset, get_data_from_dataloader, get_loading_parameters\n",
    "from utils.nn_utils import get_rotated_mean, make_rotation_matrix, hitRate_generic, so2_rotate_subspaces\n",
    "from utils.plotting_utils import plot_extra_dims, plot_images_distributions, \\\n",
    "    plot_mixture_neurreps, add_image_to_ax, add_distribution_to_ax_torus, save_embeddings_on_circle, yiq_embedding, \\\n",
    "    plot_embeddings_eval_torus, plot_projected_embeddings_pca, plot_std_distribution, plot_cylinder, \\\n",
    "    plot_image_mixture_rec_all, plot_clusters\n",
    "from utils.plotting_utils_so3 import visualize_so3_probabilities\n",
    "from utils.torch_utils import torch_data_to_numpy\n",
    "from utils.disentanglement_metric import dlsbd_metric_mixture, dlsbd_metric_mixture_monte\n",
    "from utils.model_utils import reload_model, get_embeddings, get_reconstructions, sigmoid, get_n_clusters_noise\n",
    "from datasets.equiv_dset import EquivDataset\n",
    "from dataset_generation.modelnet_efficient import ModelNetUniqueDataset, ModelNetDataset"
   ]
  },
  {
   "cell_type": "code",
   "execution_count": null,
   "outputs": [],
   "source": [
    "save_folder = \"test1chamfer3\"\n",
    "model_name = \"Dmodelnet_efficient-Dmodelnet10-Linfonce-ED20-N4-Mresnet-Aresnet-IDtest1chamfer3-S17\"\n",
    "autoencoder = \"ae\"\n",
    "checkpoints_dir = \"./saved_models\"\n",
    "neptune_user = \"laprhanabi\"\n",
    "api_token = \"eyJhcGlfYWRkcmVzcyI6Imh0dHBzOi8vYXBwLm5lcHR1bmUuYWkiLCJhcGlfdXJsIjoiaHR0cHM6Ly9hcHAubmVwdHVuZS5haSIsImFwaV9rZXkiOiJmZWQ5MjRjMy0xMzI5LTQ5ZDAtYWEzYS04YjQ0YTk4NTgxYmYifQ==\""
   ],
   "metadata": {
    "collapsed": false
   }
  },
  {
   "cell_type": "code",
   "execution_count": null,
   "outputs": [],
   "source": [
    "os.listdir(os.path.join(os.path.dirname(os.getcwd()),\"saved_models\"))"
   ],
   "metadata": {
    "collapsed": false
   }
  },
  {
   "cell_type": "code",
   "execution_count": null,
   "outputs": [],
   "source": [
    "model_dir = os.path.join(os.path.dirname(os.getcwd()),\"saved_models\", \"modelnet_efficient\", save_folder,model_name)\n",
    "meta_file = os.path.join(model_dir, 'metadata.pkl')\n",
    "args = pickle.load(open(meta_file, 'rb'))['args']\n",
    "print(\"Arguments\", args)\n",
    "save_folder = os.path.join(\".\", \"visualizations\",model_name)\n",
    "os.makedirs(save_folder, exist_ok=True)\n",
    "if args.gpu != \"\":```\n",
    "    device = \"cpu\"\n",
    "else:\n",
    "    device = torch.device(\"cuda:\" + args.gpu if torch.cuda.is_available() else \"cpu\")\n",
    "torch.cuda.empty_cache()"
   ],
   "metadata": {
    "collapsed": false
   }
  },
  {
   "cell_type": "code",
   "execution_count": null,
   "outputs": [],
   "source": [
    "device"
   ],
   "metadata": {
    "collapsed": false
   }
  },
  {
   "cell_type": "code",
   "execution_count": null,
   "outputs": [],
   "source": [
    "model, decoder = reload_model(model_dir, autoencoder, device=device)\n",
    "model_path = os.path.join(checkpoints_dir, model_name)"
   ],
   "metadata": {
    "collapsed": false
   }
  },
  {
   "cell_type": "code",
   "execution_count": null,
   "outputs": [],
   "source": [
    "neptune_id_file = os.path.join(model_dir, 'neptune.txt')\n",
    "\n",
    "if neptune_user != \"\":\n",
    "    from utils.neptune_utils import reload_neptune_run\n",
    "\n",
    "    run = reload_neptune_run(neptune_user, \"non-free\", neptune_id_file, api_token=api_token)\n",
    "else:\n",
    "    run = None"
   ],
   "metadata": {
    "collapsed": false
   }
  },
  {
   "cell_type": "code",
   "execution_count": null,
   "outputs": [],
   "source": [
    "# Define a pytorch Bayesian model for classifying encoded data\n",
    "from models.classifiers import SimpleClassifierDropout\n",
    "classif = SimpleClassifierDropout(args.extra_dim, hidden_layers_list=[20, 15, 10], num_classes = 10)"
   ],
   "metadata": {
    "collapsed": false
   }
  },
  {
   "cell_type": "code",
   "execution_count": null,
   "outputs": [],
   "source": [
    "\n",
    "classif"
   ],
   "metadata": {
    "collapsed": false
   }
  },
  {
   "cell_type": "code",
   "execution_count": null,
   "outputs": [],
   "source": [],
   "metadata": {
    "collapsed": false
   }
  }
 ],
 "metadata": {
  "kernelspec": {
   "display_name": "Python 3",
   "language": "python",
   "name": "python3"
  },
  "language_info": {
   "codemirror_mode": {
    "name": "ipython",
    "version": 2
   },
   "file_extension": ".py",
   "mimetype": "text/x-python",
   "name": "python",
   "nbconvert_exporter": "python",
   "pygments_lexer": "ipython2",
   "version": "2.7.6"
  }
 },
 "nbformat": 4,
 "nbformat_minor": 0
}
