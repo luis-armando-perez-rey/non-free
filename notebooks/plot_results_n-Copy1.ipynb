{
 "cells": [
  {
   "cell_type": "code",
   "execution_count": null,
   "id": "0b9f75c7",
   "metadata": {},
   "outputs": [],
   "source": [
    "import os\n",
    "import sys\n",
    "import numpy as np\n",
    "import matplotlib.pyplot as plt"
   ]
  },
  {
   "cell_type": "code",
   "execution_count": null,
   "id": "0b3a3fc2",
   "metadata": {},
   "outputs": [],
   "source": [
    "dataset = \"arrows\"\n",
    "experiment_name = \"arrows_datapairs_chamferreg\"\n",
    "saved_models_dir = os.path.join(os.path.dirname(os.getcwd()), \"saved_models\")\n",
    "dataset_dir = os.path.join(saved_models_dir, dataset)\n",
    "experiment_dir = os.path.join(dataset_dir, experiment_name)\n"
   ]
  },
  {
   "cell_type": "code",
   "execution_count": null,
   "id": "ec85b550",
   "metadata": {},
   "outputs": [],
   "source": [
    "os.listdir(experiment_dir)"
   ]
  },
  {
   "cell_type": "code",
   "execution_count": null,
   "id": "d440e39a",
   "metadata": {},
   "outputs": [],
   "source": [
    "def get_metrics_N(experiment_dir, dataset_name, extra_dimension, N_values, metric, seeds):\n",
    "    equivariance_losses_N = []\n",
    "    for N in N_values:\n",
    "        equivariance_losses = []\n",
    "        for seed in seeds:\n",
    "            saved_data_dir = \"D{}-D{}-Linfonce-ED{}-N{}-Mresnet-Aresnet-ID{}-S{}\".format(dataset, dataset_name, extra_dimension, N, experiment_name, seed)\n",
    "            files_dir = os.path.join(experiment_dir, saved_data_dir)\n",
    "            if metric == \"errors_rec_val\":\n",
    "                equivariance_losses.append(np.load(os.path.join(files_dir, metric+\".npy\"))[-1]/(64*64))\n",
    "            else:\n",
    "                equivariance_losses.append(np.load(os.path.join(files_dir, metric+\".npy\"))[-1])\n",
    "        equivariance_losses = np.array(equivariance_losses)\n",
    "        equivariance_losses_N.append(equivariance_losses)\n",
    "        print(N,equivariance_losses.shape)\n",
    "    return np.array(equivariance_losses_N)\n",
    "    \n",
    "def get_metrics_chamferreg(experiment_dir, dataset_name, extra_dimension, chamfers, metric, seeds, N):\n",
    "    equivariance_losses_N = []\n",
    "    for chamfer in chamfers:\n",
    "        equivariance_losses = []\n",
    "        for seed in seeds:\n",
    "            saved_data_dir = \"D{}-D{}-Linfonce-ED{}-N{}-Mresnet-Aresnet-ID{}-S{}-CHAMFER{}\".format(dataset, dataset_name, extra_dimension, N, experiment_name, seed, chamfer)\n",
    "            files_dir = os.path.join(experiment_dir, saved_data_dir)\n",
    "            if metric == \"errors_rec_val\":\n",
    "                equivariance_losses.append(np.load(os.path.join(files_dir, metric+\".npy\"))[-1]/(64*64))\n",
    "            else:\n",
    "                equivariance_losses.append(np.load(os.path.join(files_dir, metric+\".npy\"))[-1])\n",
    "        equivariance_losses = np.array(equivariance_losses)\n",
    "        equivariance_losses_N.append(equivariance_losses)\n",
    "        print(chamfer,equivariance_losses.shape)\n",
    "    return np.array(equivariance_losses_N)\n",
    "\n",
    "    "
   ]
  },
  {
   "cell_type": "markdown",
   "id": "8f4f7bd8",
   "metadata": {},
   "source": [
    "# N Values"
   ]
  },
  {
   "cell_type": "code",
   "execution_count": null,
   "id": "2300ebf7",
   "metadata": {},
   "outputs": [],
   "source": [
    "dataset = \"symmetric_solids\"\n",
    "experiment_name = \"arrows_datapairs_weighted1\"\n",
    "# experiment_name = \"arrows_datapairs_weighted1chamfer1\"\n",
    "saved_models_dir = os.path.join(os.path.dirname(os.getcwd()), \"saved_models\")\n",
    "dataset_dir = os.path.join(saved_models_dir, dataset)\n",
    "experiment_dir = os.path.join(dataset_dir, experiment_name)"
   ]
  },
  {
   "cell_type": "code",
   "execution_count": null,
   "id": "5c570d21",
   "metadata": {
    "collapsed": true,
    "jupyter": {
     "outputs_hidden": true
    }
   },
   "outputs": [],
   "source": [
    "print(os.listdir(experiment_dir))"
   ]
  },
  {
   "cell_type": "code",
   "execution_count": null,
   "id": "45838367",
   "metadata": {},
   "outputs": [],
   "source": [
    "dataset_name = \"1_c_2_c_3_c_4_c_5_c\"\n",
    "dataset_name = \"1_2_3_4_5\"\n",
    "dataset_name = \"tetrahedron cube icosahedron\"\n",
    "dataset_name = \"tetrahedron\"\n",
    "extra_dimension = 0\n",
    "N = 1\n",
    "N_values = [1,3,4,5,6,7,8,9]\n",
    "N_values = np.arange(1, 11)\n",
    "N_values = np.arange(1, 21)\n",
    "seed = 17\n",
    "seeds = [17, 58, 19, 42, 28]\n",
    "metric = \"errors_rec_val\"\n",
    "metric = \"errors_hitrate\"\n",
    "metric = \"equiv_val\"\n",
    "metric = \"entropy_val\"\n",
    "metric_title_dict = {\"errors_rec_val\": \"Reconstruction\", \"equiv_val\": \"Equivariance\", \"errors_hitrate\":\"Hit-Rate\", \"entropy_val\": \"Discrete Entropy\"}\n",
    "\n",
    "equivariance_losses_N = get_metrics_N(experiment_dir, dataset_name, extra_dimension, N_values, metric, seeds)\n",
    "std_equiv_losses = np.std(equivariance_losses_N, axis = -1)\n",
    "q1,q3 = np.percentile(equivariance_losses_N, q=[25, 75], axis =-1)\n",
    "mean_equiv_losses = np.mean(equivariance_losses_N, axis = -1)"
   ]
  },
  {
   "cell_type": "code",
   "execution_count": null,
   "id": "d690cd80",
   "metadata": {},
   "outputs": [],
   "source": [
    "save_dir = \"./\"+dataset_name\n",
    "os.makedirs(save_dir, exist_ok = True)"
   ]
  },
  {
   "cell_type": "code",
   "execution_count": null,
   "id": "efcd7112",
   "metadata": {},
   "outputs": [],
   "source": [
    "fig , ax = plt.subplots(1,1)\n",
    "ax.fill_between(N_values, mean_equiv_losses-std_equiv_losses, mean_equiv_losses+std_equiv_losses, color='k', alpha=.2, edgecolor=\"b\")\n",
    "ax.plot(N_values, mean_equiv_losses, \".-\", markersize=10)\n",
    "ax.set_xticks(N_values)\n",
    "ax.set_ylabel(metric_title_dict[metric], fontsize = 12.5)\n",
    "ax.set_xlabel(r\"$N$\", fontsize = 12.5)\n",
    "# ax.set_yscale('log')\n",
    "ax.set_xlim([N_values[0], N_values[-1]])\n",
    "ax.set_title(r\"{} vs. $N$\".format(metric_title_dict[metric],dataset_name))\n",
    "ax.grid()\n",
    "fig.savefig(os.path.join(save_dir, metric+\".png\"))\n",
    "np.save(os.path.join(save_dir, metric+\"_mean.npy\"), mean_equiv_losses)\n",
    "np.save(os.path.join(save_dir, metric+\"_std.npy\"), std_equiv_losses)"
   ]
  },
  {
   "cell_type": "markdown",
   "id": "1f828680",
   "metadata": {},
   "source": [
    "# Chamfer"
   ]
  },
  {
   "cell_type": "code",
   "execution_count": null,
   "id": "9cf5b2eb",
   "metadata": {},
   "outputs": [],
   "source": [
    "dataset = \"arrows\"\n",
    "experiment_name = \"arrows_datapairs_chamferreg\"\n",
    "saved_models_dir = os.path.join(os.path.dirname(os.getcwd()), \"saved_models\")\n",
    "dataset_dir = os.path.join(saved_models_dir, dataset)\n",
    "experiment_dir = os.path.join(dataset_dir, experiment_name)"
   ]
  },
  {
   "cell_type": "code",
   "execution_count": null,
   "id": "dadeb689",
   "metadata": {},
   "outputs": [],
   "source": [
    "dataset_name = \"1_c_2_c_3_c_4_c_5_c\"\n",
    "dataset_name = \"1_2_3_4_5\"\n",
    "extra_dimension = 3\n",
    "N = 5\n",
    "chamfer_values = [0.001, 0.01, 0.1, 1.0, 5.0, 10.0]\n",
    "seeds = [17, 58, 19, 42, 28]\n",
    "seeds = [17, 58]\n",
    "# seeds = [17]\n",
    "metric = \"errors_rec_val\"\n",
    "# metric = \"errors_hitrate\"\n",
    "metric = \"equiv_val\"\n",
    "# metric = \"entropy_val\"\n",
    "\n",
    "equivariance_losses_N = get_metrics_chamferreg(experiment_dir, dataset_name, extra_dimension, chamfer_values, metric, seeds, N)"
   ]
  },
  {
   "cell_type": "code",
   "execution_count": null,
   "id": "0276f44a",
   "metadata": {},
   "outputs": [],
   "source": [
    "std_equiv_losses = np.std(equivariance_losses_N, axis = -1)\n",
    "q1,q3 = np.percentile(equivariance_losses_N, q=[25, 75], axis =-1)\n",
    "mean_equiv_losses = np.mean(equivariance_losses_N, axis = -1)"
   ]
  },
  {
   "cell_type": "code",
   "execution_count": null,
   "id": "8eeb4bde",
   "metadata": {},
   "outputs": [],
   "source": [
    "os.makedirs(\"./chamferreg\", exist_ok=True)"
   ]
  },
  {
   "cell_type": "code",
   "execution_count": null,
   "id": "80704357",
   "metadata": {},
   "outputs": [],
   "source": [
    "fig , ax = plt.subplots(1,1)\n",
    "ax.fill_between(chamfer_values, mean_equiv_losses-std_equiv_losses, mean_equiv_losses+std_equiv_losses, color='k', alpha=.2, edgecolor=\"b\")\n",
    "ax.plot(chamfer_values, mean_equiv_losses, \".-\", markersize=10)\n",
    "ax.set_xticks(chamfer_values)\n",
    "ax.set_ylabel(metric_title_dict[metric], fontsize = 12.5)\n",
    "ax.set_xlabel(r\"$\\log\\lambda$\", fontsize = 12.5)\n",
    "ax.set_xscale('log')\n",
    "# ax.set_yscale('log')\n",
    "ax.set_xlim([chamfer_values[0], chamfer_values[-1]])\n",
    "ax.set_title(r\"{} vs. $\\log\\lambda$\".format(metric_title_dict[metric],dataset_name))\n",
    "ax.grid()\n",
    "fig.savefig(os.path.join(\"./chamferreg\", metric+\".png\"))"
   ]
  },
  {
   "cell_type": "code",
   "execution_count": null,
   "id": "01b6c45b",
   "metadata": {},
   "outputs": [],
   "source": [
    "dataset = \"arrows\"\n",
    "experiment_name = \"arrows_datapairs_weighted1\"\n",
    "saved_models_dir = os.path.join(os.path.dirname(os.getcwd()), \"saved_models\")\n",
    "dataset_dir = os.path.join(saved_models_dir, dataset)\n",
    "experiment_dir = os.path.join(dataset_dir, experiment_name)"
   ]
  },
  {
   "cell_type": "code",
   "execution_count": null,
   "id": "d1280dba",
   "metadata": {},
   "outputs": [],
   "source": [
    "print(os.listdir(dataset_dir))"
   ]
  },
  {
   "cell_type": "code",
   "execution_count": null,
   "id": "cdad3204",
   "metadata": {
    "collapsed": true,
    "jupyter": {
     "outputs_hidden": true
    }
   },
   "outputs": [],
   "source": [
    "print(os.listdir(experiment_dir))"
   ]
  },
  {
   "cell_type": "code",
   "execution_count": null,
   "id": "cbe91681",
   "metadata": {},
   "outputs": [],
   "source": [
    "def load_N_results(dataset, dataset_name, experiment_dir, extra_dimension, N_values, seeds, metric:str):\n",
    "    results_N = []\n",
    "    for N in N_values:\n",
    "        results = []\n",
    "        for seed in seeds:\n",
    "            saved_data_dir = \"D{}-D{}-Linfonce-ED{}-N{}-Mresnet-Aresnet-ID{}-S{}\".format(dataset, dataset_name, extra_dimension, N, experiment_name, seed)\n",
    "            files_dir = os.path.join(experiment_dir, saved_data_dir)\n",
    "            if metric == \"errors_rec_val\":\n",
    "                results.append(np.load(os.path.join(files_dir, metric+\".npy\"))/(64*64))\n",
    "            else:\n",
    "                results.append(np.load(os.path.join(files_dir, metric+\".npy\")))\n",
    "        results = np.array(results)\n",
    "        results_N.append(results)\n",
    "        \n",
    "    return np.array(results_N)\n",
    "    \n",
    "    "
   ]
  },
  {
   "cell_type": "code",
   "execution_count": null,
   "id": "24ab46c0",
   "metadata": {},
   "outputs": [],
   "source": [
    "results_list = []\n",
    "dataset_names = [\"1\", \"2\", \"3\", \"4\", \"5\"]\n",
    "\n",
    "extra_dimension = 0\n",
    "N_values = np.arange(1, 11)\n",
    "seeds = [17, 58, 19, 42, 28]\n",
    "for dataset_name in dataset_names:\n",
    "    results_dict = {\n",
    "        \"hitrate\":{\"metric_name\": \"errors_hitrate\",\n",
    "                   \"plot_name\": \"Hit-Rate\",\n",
    "                  \"N_values\":[],\n",
    "                   \"mean_N\":[],\n",
    "                   \"std_N\":[]\n",
    "                  },\n",
    "        \"equiv\":{\"metric_name\": \"equiv_val\",\n",
    "                 \"plot_name\": \"Equivariance\",\n",
    "                  \"N_values\":[],\n",
    "                   \"mean_N\":[],\n",
    "                   \"std_N\":[]\n",
    "                  },\n",
    "        \"reconstruction\":{\"metric_name\": \"errors_rec_val\",\n",
    "                 \"plot_name\": \"Reconstruction\",\n",
    "                  \"N_values\":[],\n",
    "                   \"mean_N\":[],\n",
    "                   \"std_N\":[]\n",
    "                  },\n",
    "        \"entropy\":{\"metric_name\": \"entropy_val\",\n",
    "                 \"plot_name\": \"Entropy\",\n",
    "                  \"N_values\":[],\n",
    "                   \"mean_N\":[],\n",
    "                   \"std_N\":[]\n",
    "                  },\n",
    "    }\n",
    "    for key in results_dict.keys():\n",
    "        results_dict[key][\"N_values\"] = load_N_results(dataset, dataset_name, experiment_dir, extra_dimension, N_values, seeds,results_dict[key][\"metric_name\"])\n",
    "        results_dict[key][\"mean_N\"] = np.mean(results_dict[key][\"N_values\"], axis=1)\n",
    "        results_dict[key][\"std_N\"] = np.std(results_dict[key][\"N_values\"], axis=1)\n",
    "    results_list.append(results_dict)\n"
   ]
  },
  {
   "cell_type": "code",
   "execution_count": null,
   "id": "3bba195e",
   "metadata": {},
   "outputs": [],
   "source": [
    "os.makedirs(\"./single_arrows\", exist_ok=True)"
   ]
  },
  {
   "cell_type": "code",
   "execution_count": null,
   "id": "88b77b59",
   "metadata": {},
   "outputs": [],
   "source": [
    "fig , ax = plt.subplots(1,1)\n",
    "def plot_N_results(N_values, mean, std, ax, label = None):\n",
    "    ax.fill_between(N_values, mean-std, mean+std, alpha=.2, edgecolor=\"b\")\n",
    "    if label is not None:\n",
    "        ax.plot(N_values, mean, \".-\", label =label )\n",
    "    else:\n",
    "        ax.plot(N_values, mean, \".-\")\n",
    "    ax.set_xticks(N_values)\n",
    "    ax.set_xlabel(\"N\", fontsize=12.5)\n",
    "    ax.set_xlim([N_values[0], N_values[-1]])\n",
    "    return ax\n",
    "metric = \"hitrate\"\n",
    "for num_result, result in enumerate(results_list):\n",
    "    ax = plot_N_results(N_values, result[metric][\"mean_N\"][:, -1], result[metric][\"std_N\"][:, -1], ax, label = dataset_names[num_result])\n",
    "ax.legend(title=\"Stabilizers\")\n",
    "ax.set_ylabel(result[metric][\"plot_name\"], fontsize=12.5)\n",
    "ax.grid()\n",
    "if metric == \"reconstruction\":\n",
    "    ax.set_ylim([0, 0.7])\n",
    "fig.savefig(os.path.join(\"./single_arrows\", metric+\".png\"))\n",
    "\n",
    "    \n",
    "\n",
    "# ax.set_ylabel(\"Equivariance Loss\")\n",
    "# ax.grid()\n",
    "# ax.set_title(\"{} loss per value of N for {} arrows\".format(metric.split(\"_\")[1],dataset_name))\n"
   ]
  },
  {
   "cell_type": "code",
   "execution_count": null,
   "id": "1e52b793",
   "metadata": {},
   "outputs": [],
   "source": [
    "a = np.array([[2,3], [4,5]])\n",
    "unique = np.unique(a, axis=0)[0]\n",
    "np.product(a == unique, axis = -1, dtype=bool)\n",
    "\n",
    "# a = np.array([2,3,4,5])\n",
    "# unique = np.unique(a, axis=0)[0]\n",
    "# np.product(a == unique, axis = -1, dtype=bool)"
   ]
  },
  {
   "cell_type": "code",
   "execution_count": null,
   "id": "ce1796ff",
   "metadata": {},
   "outputs": [],
   "source": [
    "fig , ax = plt.subplots(1,1)\n",
    "for num_equiv_loss, (mean_equiv_loss, std_equiv_loss) in enumerate(zip(mean_equiv_losses, std_equiv_losses)):\n",
    "    ax.plot(epochs, mean_equiv_loss, label = str(num_equiv_loss + 1))\n",
    "    # ax.fill_between(epochs, (mean_equiv_loss-std_equiv_loss), (mean_equiv_loss+std_equiv_loss), color='b', alpha=.1)\n",
    "ax.set_xlabel(\"Epochs\")\n",
    "ax.legend()\n",
    "ax.set_ylabel(\"Equivariance Loss\")"
   ]
  },
  {
   "cell_type": "code",
   "execution_count": null,
   "id": "67a8f704",
   "metadata": {},
   "outputs": [],
   "source": [
    "mean_per_n = mean_equiv_losses[:, -1]\n",
    "std_per_n = std_equiv_losses[:, -1]\n",
    "q1_per_n = q1[:,-1]\n",
    "q3_per_n = q3[:, -1]\n",
    "fig , ax = plt.subplots(1,1)\n",
    "ax.fill_between(N_values, mean_per_n-std_per_n, mean_per_n+std_per_n, color='k', alpha=.2, edgecolor=\"b\")\n",
    "ax.plot(N_values, mean_per_n, \".-\")\n",
    "ax.set_xticks(N_values)\n",
    "ax.set_ylabel(\"Equivariance Loss\")\n",
    "ax.set_xlabel(\"N\")\n",
    "ax.set_xlim([N_values[0], N_values[-1]])\n",
    "ax.set_title(\"{} loss per value of N for {} arrows\".format(metric.split(\"_\")[1],dataset_name))\n",
    "ax.grid()\n",
    "# ax.errorbar(range(len(mean_per_n)), mean_per_n, yerr=std_per_n)"
   ]
  },
  {
   "cell_type": "code",
   "execution_count": null,
   "id": "1a91a0b4",
   "metadata": {},
   "outputs": [],
   "source": [
    "mean_per_n = mean_equiv_losses[:, -1]\n",
    "std_per_n = std_equiv_losses[:, -1]\n",
    "fig , ax = plt.subplots(1,1)\n",
    "ax.fill_between(N_values, (mean_per_n-std_per_n), (mean_per_n+std_per_n), color='b', alpha=.1)\n",
    "ax.plot(N_values, mean_per_n, \"-x\")\n",
    "ax.set_xticks(N_values)\n",
    "ax.set_ylabel(\"Equivariance Loss\")\n",
    "ax.set_xlabel(\"N\")\n",
    "ax.set_xlim([N_values[0], N_values[-1]])\n",
    "ax.set_title(\"{} loss per value of N for {} arrows\".format(metric.split(\"_\")[1],dataset_name))\n",
    "ax.grid()"
   ]
  },
  {
   "cell_type": "code",
   "execution_count": null,
   "id": "d3cb6006",
   "metadata": {},
   "outputs": [],
   "source": [
    "\n",
    "for num_equiv_loss, (mean_equiv_loss, std_equiv_loss) in enumerate(zip(mean_equiv_losses, std_equiv_losses)):\n",
    "    ax.plot(epochs, mean_equiv_loss, label = str(num_equiv_loss + 1))\n",
    "    # ax.fill_between(epochs, (mean_equiv_loss-std_equiv_loss), (mean_equiv_loss+std_equiv_loss), color='b', alpha=.1)\n",
    "ax.set_xlabel(\"Epochs\")\n",
    "ax.legend()\n",
    "ax.set_ylabel(\"Equivariance Loss\")"
   ]
  },
  {
   "cell_type": "code",
   "execution_count": null,
   "id": "f9d210e1",
   "metadata": {},
   "outputs": [],
   "source": []
  }
 ],
 "metadata": {
  "kernelspec": {
   "display_name": "Python 3 (ipykernel)",
   "language": "python",
   "name": "python3"
  },
  "language_info": {
   "codemirror_mode": {
    "name": "ipython",
    "version": 3
   },
   "file_extension": ".py",
   "mimetype": "text/x-python",
   "name": "python",
   "nbconvert_exporter": "python",
   "pygments_lexer": "ipython3",
   "version": "3.8.12"
  }
 },
 "nbformat": 4,
 "nbformat_minor": 5
}
