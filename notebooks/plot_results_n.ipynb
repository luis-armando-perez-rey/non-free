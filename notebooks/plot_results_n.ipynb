{
 "cells": [
  {
   "cell_type": "code",
   "execution_count": null,
   "id": "efe6f7d3-bc67-43ee-aa1a-b6faaf2c36f4",
   "metadata": {},
   "outputs": [],
   "source": [
    "import os\n",
    "import sys\n",
    "import numpy as np\n",
    "import matplotlib.pyplot as plt"
   ]
  },
  {
   "cell_type": "code",
   "execution_count": null,
   "id": "37ea76d2-c323-4b00-8534-9d1432d8fde5",
   "metadata": {},
   "outputs": [],
   "source": [
    "dataset = \"arrows\"\n",
    "experiment_name = \"arrows_datapairs_weighteq10\"\n",
    "saved_models_dir = os.path.join(os.path.dirname(os.getcwd()), \"saved_models\")\n",
    "dataset_dir = os.path.join(saved_models_dir, dataset)\n",
    "experiment_dir = os.path.join(dataset_dir, experiment_name)\n"
   ]
  },
  {
   "cell_type": "code",
   "execution_count": null,
   "id": "553fcb89-b8d9-469e-b48a-b71ccd3c7e04",
   "metadata": {},
   "outputs": [],
   "source": [
    "dataset_name = 4\n",
    "extra_dimension = 3\n",
    "N = 1\n",
    "N_values = [1,2,3,4,5,6,7,8,9,10]\n",
    "seed = 17\n",
    "seeds = [17, 58, 19, 42, 28]\n",
    "\n",
    "equivariance_losses_N = []\n",
    "for N in N_values:\n",
    "    equivariance_losses = []\n",
    "    for seed in seeds:\n",
    "        saved_data_dir = \"D{}-D{}-Linfonce-ED{}-N{}-Mresnet-Aresnet-ID{}-S{}\".format(dataset, dataset_name, extra_dimension, N, experiment_name, seed)\n",
    "        files_dir = os.path.join(experiment_dir, saved_data_dir)\n",
    "        equivariance_losses.append(np.load(os.path.join(files_dir, \"errors_val.npy\"))/N)\n",
    "    equivariance_losses = np.array(equivariance_losses)\n",
    "    equivariance_losses_N.append(equivariance_losses)\n",
    "    # equivariance_losses_N = np.array(equivariance_losses)\n",
    "equivariance_losses_N = np.array(equivariance_losses_N)"
   ]
  },
  {
   "cell_type": "code",
   "execution_count": null,
   "id": "bab793c1-4fd9-4c69-a7f1-e6727cbfe42e",
   "metadata": {},
   "outputs": [],
   "source": [
    "std_equiv_losses = np.std(equivariance_losses_N, axis = 1)\n",
    "mean_equiv_losses = np.mean(equivariance_losses_N, axis = 1)\n",
    "epochs = np.arange(mean_equiv_losses.shape[-1])"
   ]
  },
  {
   "cell_type": "code",
   "execution_count": null,
   "id": "83a346fb-72c2-47a5-bd64-f0e19476dcfe",
   "metadata": {},
   "outputs": [],
   "source": [
    "mean_equiv_losses.shape"
   ]
  },
  {
   "cell_type": "code",
   "execution_count": null,
   "id": "5024d9cb-e01e-49c9-8646-c7dfe4856074",
   "metadata": {},
   "outputs": [],
   "source": [
    "fig , ax = plt.subplots(1,1)\n",
    "for num_equiv_loss, (mean_equiv_loss, std_equiv_loss) in enumerate(zip(mean_equiv_losses, std_equiv_losses)):\n",
    "    ax.plot(epochs, mean_equiv_loss, label = str(num_equiv_loss + 1))\n",
    "    # ax.fill_between(epochs, (mean_equiv_loss-std_equiv_loss), (mean_equiv_loss+std_equiv_loss), color='b', alpha=.1)\n",
    "ax.set_xlabel(\"Epochs\")\n",
    "ax.legend()\n",
    "ax.set_ylabel(\"Equivariance Loss\")"
   ]
  },
  {
   "cell_type": "code",
   "execution_count": null,
   "id": "32e6fd1e-6870-4248-aaaa-aad32648f70c",
   "metadata": {},
   "outputs": [],
   "source": [
    "mean_per_n = mean_equiv_losses[:, -1]\n",
    "std_per_n = std_equiv_losses[:, -1]\n",
    "fig , ax = plt.subplots(1,1)\n",
    "ax.fill_between(N_values, (mean_per_n-std_per_n), (mean_per_n+std_per_n), color='b', alpha=.1)\n",
    "ax.plot(N_values, mean_per_n, \"-x\")\n",
    "ax.set_xticks(N_values)\n",
    "ax.set_ylabel(\"Equivariance Loss\")\n",
    "ax.set_xlabel(\"N\")\n",
    "ax.set_xlim([N_values[0], N_values[-1]])\n",
    "ax.set_title(\"Equivariance loss per value of N for 4 arrows\")\n",
    "ax.grid()\n",
    "# ax.errorbar(range(len(mean_per_n)), mean_per_n, yerr=std_per_n)"
   ]
  },
  {
   "cell_type": "code",
   "execution_count": null,
   "id": "aa5d7257-59a6-4102-ab4f-d97af151a346",
   "metadata": {},
   "outputs": [],
   "source": [
    "\n",
    "for num_equiv_loss, (mean_equiv_loss, std_equiv_loss) in enumerate(zip(mean_equiv_losses, std_equiv_losses)):\n",
    "    ax.plot(epochs, mean_equiv_loss, label = str(num_equiv_loss + 1))\n",
    "    # ax.fill_between(epochs, (mean_equiv_loss-std_equiv_loss), (mean_equiv_loss+std_equiv_loss), color='b', alpha=.1)\n",
    "ax.set_xlabel(\"Epochs\")\n",
    "ax.legend()\n",
    "ax.set_ylabel(\"Equivariance Loss\")"
   ]
  },
  {
   "cell_type": "code",
   "execution_count": null,
   "id": "514aaf7c-be67-408e-ae63-9f3f6c45fed3",
   "metadata": {},
   "outputs": [],
   "source": []
  }
 ],
 "metadata": {
  "kernelspec": {
   "display_name": "Python 3 (ipykernel)",
   "language": "python",
   "name": "python3"
  },
  "language_info": {
   "codemirror_mode": {
    "name": "ipython",
    "version": 3
   },
   "file_extension": ".py",
   "mimetype": "text/x-python",
   "name": "python",
   "nbconvert_exporter": "python",
   "pygments_lexer": "ipython3",
   "version": "3.8.13"
  }
 },
 "nbformat": 4,
 "nbformat_minor": 5
}
